{
 "cells": [
  {
   "cell_type": "markdown",
   "source": [
    "<h1><center><font size=\"6\">Data Cleaning</font></center></h1>"
   ],
   "metadata": {
    "collapsed": false
   }
  },
  {
   "cell_type": "markdown",
   "source": [
    "# Outline\n",
    "- [Import necessary Libraries](#1)\n",
    "- [Introduction](#2)\n",
    "- [Data Cleaning](#3)\n",
    "- [Conclusions](#4)\n",
    "- [References](#5)"
   ],
   "metadata": {
    "collapsed": false
   }
  },
  {
   "cell_type": "markdown",
   "source": [
    "<a id='1'></a>\n",
    "# Import necessary Libraries"
   ],
   "metadata": {
    "collapsed": false
   }
  },
  {
   "cell_type": "code",
   "execution_count": 1,
   "outputs": [
    {
     "name": "stdout",
     "output_type": "stream",
     "text": [
      "Python: 3.9.16\n",
      "Numpy: 1.24.1\n",
      "Pandas: 1.5.2\n"
     ]
    }
   ],
   "source": [
    "# Import necessary libraries and print their versions\n",
    "from platform import python_version\n",
    "print(f\"Python: {python_version()}\")\n",
    "import numpy as np\n",
    "print(f\"Numpy: {np.__version__}\")\n",
    "import pandas as pd\n",
    "print(f\"Pandas: {pd.__version__}\")"
   ],
   "metadata": {
    "collapsed": false
   }
  },
  {
   "cell_type": "markdown",
   "source": [
    "<a id='2'></a>\n",
    "# Introduction\n",
    "In this notebook we will prepare the data obtained from the web scraping for further processing. This involves removing irrelevant data and converting the data into a desired format."
   ],
   "metadata": {
    "collapsed": false
   }
  },
  {
   "cell_type": "markdown",
   "source": [
    "<a id='3'></a>\n",
    "# Data Cleaning\n",
    "## Load Data"
   ],
   "metadata": {
    "collapsed": false
   }
  },
  {
   "cell_type": "code",
   "execution_count": 2,
   "outputs": [
    {
     "data": {
      "text/plain": "   Rank              Name Platform    Year             Genre  Critic_Score  \\\n0     1            Tetris   Series  1989.0            Puzzle           NaN   \n1     2           Pokemon   Series  1998.0      Role-Playing           NaN   \n2     3      Call of Duty   Series  2003.0           Shooter           NaN   \n3     4       Super Mario   Series  1983.0          Platform           NaN   \n4     5  Grand Theft Auto   Series  1998.0  Action-Adventure           NaN   \n\n   User_Score         Publisher          Developer  NA_Sales  PAL_Sales  \\\n0         NaN        Nintendo    Alexey Pajitnov         NaN        NaN   \n1         NaN        Nintendo         Game Freak         NaN        NaN   \n2         NaN      Activision      Infinity Ward         NaN        NaN   \n3         NaN        Nintendo           Nintendo         NaN        NaN   \n4         NaN  Rockstar Games     Rockstar North         NaN        NaN   \n\n   JP_Sales  Other_Sales  Total_Sales  \n0       NaN          NaN          NaN  \n1       NaN          NaN          NaN  \n2       NaN          NaN          NaN  \n3       NaN          NaN          NaN  \n4       NaN          NaN          NaN  ",
      "text/html": "<div>\n<style scoped>\n    .dataframe tbody tr th:only-of-type {\n        vertical-align: middle;\n    }\n\n    .dataframe tbody tr th {\n        vertical-align: top;\n    }\n\n    .dataframe thead th {\n        text-align: right;\n    }\n</style>\n<table border=\"1\" class=\"dataframe\">\n  <thead>\n    <tr style=\"text-align: right;\">\n      <th></th>\n      <th>Rank</th>\n      <th>Name</th>\n      <th>Platform</th>\n      <th>Year</th>\n      <th>Genre</th>\n      <th>Critic_Score</th>\n      <th>User_Score</th>\n      <th>Publisher</th>\n      <th>Developer</th>\n      <th>NA_Sales</th>\n      <th>PAL_Sales</th>\n      <th>JP_Sales</th>\n      <th>Other_Sales</th>\n      <th>Total_Sales</th>\n    </tr>\n  </thead>\n  <tbody>\n    <tr>\n      <th>0</th>\n      <td>1</td>\n      <td>Tetris</td>\n      <td>Series</td>\n      <td>1989.0</td>\n      <td>Puzzle</td>\n      <td>NaN</td>\n      <td>NaN</td>\n      <td>Nintendo</td>\n      <td>Alexey Pajitnov</td>\n      <td>NaN</td>\n      <td>NaN</td>\n      <td>NaN</td>\n      <td>NaN</td>\n      <td>NaN</td>\n    </tr>\n    <tr>\n      <th>1</th>\n      <td>2</td>\n      <td>Pokemon</td>\n      <td>Series</td>\n      <td>1998.0</td>\n      <td>Role-Playing</td>\n      <td>NaN</td>\n      <td>NaN</td>\n      <td>Nintendo</td>\n      <td>Game Freak</td>\n      <td>NaN</td>\n      <td>NaN</td>\n      <td>NaN</td>\n      <td>NaN</td>\n      <td>NaN</td>\n    </tr>\n    <tr>\n      <th>2</th>\n      <td>3</td>\n      <td>Call of Duty</td>\n      <td>Series</td>\n      <td>2003.0</td>\n      <td>Shooter</td>\n      <td>NaN</td>\n      <td>NaN</td>\n      <td>Activision</td>\n      <td>Infinity Ward</td>\n      <td>NaN</td>\n      <td>NaN</td>\n      <td>NaN</td>\n      <td>NaN</td>\n      <td>NaN</td>\n    </tr>\n    <tr>\n      <th>3</th>\n      <td>4</td>\n      <td>Super Mario</td>\n      <td>Series</td>\n      <td>1983.0</td>\n      <td>Platform</td>\n      <td>NaN</td>\n      <td>NaN</td>\n      <td>Nintendo</td>\n      <td>Nintendo</td>\n      <td>NaN</td>\n      <td>NaN</td>\n      <td>NaN</td>\n      <td>NaN</td>\n      <td>NaN</td>\n    </tr>\n    <tr>\n      <th>4</th>\n      <td>5</td>\n      <td>Grand Theft Auto</td>\n      <td>Series</td>\n      <td>1998.0</td>\n      <td>Action-Adventure</td>\n      <td>NaN</td>\n      <td>NaN</td>\n      <td>Rockstar Games</td>\n      <td>Rockstar North</td>\n      <td>NaN</td>\n      <td>NaN</td>\n      <td>NaN</td>\n      <td>NaN</td>\n      <td>NaN</td>\n    </tr>\n  </tbody>\n</table>\n</div>"
     },
     "execution_count": 2,
     "metadata": {},
     "output_type": "execute_result"
    }
   ],
   "source": [
    "# Load data\n",
    "df = pd.read_csv(\"../web_scraping/game_sales.csv\", encoding=\"utf-8\")\n",
    "# Take a quick look if the import was successful\n",
    "df.head()"
   ],
   "metadata": {
    "collapsed": false
   }
  },
  {
   "cell_type": "markdown",
   "source": [
    "## Dealing with missing values"
   ],
   "metadata": {
    "collapsed": false
   }
  },
  {
   "cell_type": "code",
   "execution_count": 3,
   "outputs": [
    {
     "name": "stdout",
     "output_type": "stream",
     "text": [
      "<class 'pandas.core.frame.DataFrame'>\n",
      "RangeIndex: 25000 entries, 0 to 24999\n",
      "Data columns (total 14 columns):\n",
      " #   Column        Non-Null Count  Dtype  \n",
      "---  ------        --------------  -----  \n",
      " 0   Rank          25000 non-null  int64  \n",
      " 1   Name          25000 non-null  object \n",
      " 2   Platform      25000 non-null  object \n",
      " 3   Year          24341 non-null  float64\n",
      " 4   Genre         24994 non-null  object \n",
      " 5   Critic_Score  4987 non-null   float64\n",
      " 6   User_Score    287 non-null    float64\n",
      " 7   Publisher     25000 non-null  object \n",
      " 8   Developer     25000 non-null  object \n",
      " 9   NA_Sales      13660 non-null  float64\n",
      " 10  PAL_Sales     14024 non-null  float64\n",
      " 11  JP_Sales      7675 non-null   float64\n",
      " 12  Other_Sales   16369 non-null  float64\n",
      " 13  Total_Sales   20306 non-null  float64\n",
      "dtypes: float64(8), int64(1), object(5)\n",
      "memory usage: 2.7+ MB\n"
     ]
    }
   ],
   "source": [
    "# See the column data types\n",
    "df.info()"
   ],
   "metadata": {
    "collapsed": false
   }
  },
  {
   "cell_type": "code",
   "execution_count": 4,
   "outputs": [
    {
     "data": {
      "text/plain": "Rank                0\nName                0\nPlatform            0\nYear              659\nGenre               6\nCritic_Score    20013\nUser_Score      24713\nPublisher           0\nDeveloper           0\nNA_Sales        11340\nPAL_Sales       10976\nJP_Sales        17325\nOther_Sales      8631\nTotal_Sales      4694\ndtype: int64"
     },
     "execution_count": 4,
     "metadata": {},
     "output_type": "execute_result"
    }
   ],
   "source": [
    "# Check for missing values\n",
    "df.isnull().sum()"
   ],
   "metadata": {
    "collapsed": false
   }
  },
  {
   "cell_type": "code",
   "execution_count": 5,
   "outputs": [
    {
     "data": {
      "text/plain": "   Rank              Name Platform    Year             Genre  Critic_Score  \\\n0     1            Tetris   Series  1989.0            Puzzle           NaN   \n1     2           Pokemon   Series  1998.0      Role-Playing           NaN   \n2     3      Call of Duty   Series  2003.0           Shooter           NaN   \n3     4       Super Mario   Series  1983.0          Platform           NaN   \n4     5  Grand Theft Auto   Series  1998.0  Action-Adventure           NaN   \n\n          Publisher          Developer  NA_Sales  PAL_Sales  JP_Sales  \\\n0        Nintendo    Alexey Pajitnov         NaN        NaN       NaN   \n1        Nintendo         Game Freak         NaN        NaN       NaN   \n2      Activision      Infinity Ward         NaN        NaN       NaN   \n3        Nintendo           Nintendo         NaN        NaN       NaN   \n4  Rockstar Games     Rockstar North         NaN        NaN       NaN   \n\n   Other_Sales  Total_Sales  \n0          NaN          NaN  \n1          NaN          NaN  \n2          NaN          NaN  \n3          NaN          NaN  \n4          NaN          NaN  ",
      "text/html": "<div>\n<style scoped>\n    .dataframe tbody tr th:only-of-type {\n        vertical-align: middle;\n    }\n\n    .dataframe tbody tr th {\n        vertical-align: top;\n    }\n\n    .dataframe thead th {\n        text-align: right;\n    }\n</style>\n<table border=\"1\" class=\"dataframe\">\n  <thead>\n    <tr style=\"text-align: right;\">\n      <th></th>\n      <th>Rank</th>\n      <th>Name</th>\n      <th>Platform</th>\n      <th>Year</th>\n      <th>Genre</th>\n      <th>Critic_Score</th>\n      <th>Publisher</th>\n      <th>Developer</th>\n      <th>NA_Sales</th>\n      <th>PAL_Sales</th>\n      <th>JP_Sales</th>\n      <th>Other_Sales</th>\n      <th>Total_Sales</th>\n    </tr>\n  </thead>\n  <tbody>\n    <tr>\n      <th>0</th>\n      <td>1</td>\n      <td>Tetris</td>\n      <td>Series</td>\n      <td>1989.0</td>\n      <td>Puzzle</td>\n      <td>NaN</td>\n      <td>Nintendo</td>\n      <td>Alexey Pajitnov</td>\n      <td>NaN</td>\n      <td>NaN</td>\n      <td>NaN</td>\n      <td>NaN</td>\n      <td>NaN</td>\n    </tr>\n    <tr>\n      <th>1</th>\n      <td>2</td>\n      <td>Pokemon</td>\n      <td>Series</td>\n      <td>1998.0</td>\n      <td>Role-Playing</td>\n      <td>NaN</td>\n      <td>Nintendo</td>\n      <td>Game Freak</td>\n      <td>NaN</td>\n      <td>NaN</td>\n      <td>NaN</td>\n      <td>NaN</td>\n      <td>NaN</td>\n    </tr>\n    <tr>\n      <th>2</th>\n      <td>3</td>\n      <td>Call of Duty</td>\n      <td>Series</td>\n      <td>2003.0</td>\n      <td>Shooter</td>\n      <td>NaN</td>\n      <td>Activision</td>\n      <td>Infinity Ward</td>\n      <td>NaN</td>\n      <td>NaN</td>\n      <td>NaN</td>\n      <td>NaN</td>\n      <td>NaN</td>\n    </tr>\n    <tr>\n      <th>3</th>\n      <td>4</td>\n      <td>Super Mario</td>\n      <td>Series</td>\n      <td>1983.0</td>\n      <td>Platform</td>\n      <td>NaN</td>\n      <td>Nintendo</td>\n      <td>Nintendo</td>\n      <td>NaN</td>\n      <td>NaN</td>\n      <td>NaN</td>\n      <td>NaN</td>\n      <td>NaN</td>\n    </tr>\n    <tr>\n      <th>4</th>\n      <td>5</td>\n      <td>Grand Theft Auto</td>\n      <td>Series</td>\n      <td>1998.0</td>\n      <td>Action-Adventure</td>\n      <td>NaN</td>\n      <td>Rockstar Games</td>\n      <td>Rockstar North</td>\n      <td>NaN</td>\n      <td>NaN</td>\n      <td>NaN</td>\n      <td>NaN</td>\n      <td>NaN</td>\n    </tr>\n  </tbody>\n</table>\n</div>"
     },
     "execution_count": 5,
     "metadata": {},
     "output_type": "execute_result"
    }
   ],
   "source": [
    "# Remove column 'User_score', as this only has missing values\n",
    "df.drop(\"User_Score\", axis=1, inplace=True)\n",
    "# Check if everything worked correctly\n",
    "df.head()"
   ],
   "metadata": {
    "collapsed": false
   }
  },
  {
   "cell_type": "code",
   "execution_count": 6,
   "outputs": [
    {
     "data": {
      "text/plain": "0"
     },
     "execution_count": 6,
     "metadata": {},
     "output_type": "execute_result"
    }
   ],
   "source": [
    "# Check for duplicates\n",
    "df.duplicated().sum()"
   ],
   "metadata": {
    "collapsed": false
   }
  },
  {
   "cell_type": "code",
   "execution_count": 7,
   "outputs": [
    {
     "name": "stdout",
     "output_type": "stream",
     "text": [
      "<class 'pandas.core.frame.DataFrame'>\n",
      "Int64Index: 1718 entries, 25 to 20260\n",
      "Data columns (total 13 columns):\n",
      " #   Column        Non-Null Count  Dtype  \n",
      "---  ------        --------------  -----  \n",
      " 0   Rank          1718 non-null   int64  \n",
      " 1   Name          1718 non-null   object \n",
      " 2   Platform      1718 non-null   object \n",
      " 3   Year          1718 non-null   float64\n",
      " 4   Genre         1718 non-null   object \n",
      " 5   Critic_Score  1718 non-null   float64\n",
      " 6   Publisher     1718 non-null   object \n",
      " 7   Developer     1718 non-null   object \n",
      " 8   NA_Sales      1718 non-null   float64\n",
      " 9   PAL_Sales     1718 non-null   float64\n",
      " 10  JP_Sales      1718 non-null   float64\n",
      " 11  Other_Sales   1718 non-null   float64\n",
      " 12  Total_Sales   1718 non-null   float64\n",
      "dtypes: float64(7), int64(1), object(5)\n",
      "memory usage: 187.9+ KB\n"
     ]
    }
   ],
   "source": [
    "# Remove rows that have missing values\n",
    "df.dropna(axis=0, how=\"any\", inplace=True)\n",
    "df.info()"
   ],
   "metadata": {
    "collapsed": false
   }
  },
  {
   "cell_type": "markdown",
   "source": [
    "## Correct rounding errors"
   ],
   "metadata": {
    "collapsed": false
   }
  },
  {
   "cell_type": "code",
   "execution_count": 8,
   "outputs": [
    {
     "data": {
      "text/plain": "25        True\n58       False\n73       False\n80       False\n91        True\n         ...  \n17244     True\n17714    False\n18946     True\n19650    False\n20260     True\nLength: 1718, dtype: bool"
     },
     "execution_count": 8,
     "metadata": {},
     "output_type": "execute_result"
    }
   ],
   "source": [
    "# Check for rounding erros\n",
    "df[\"Total_Sales\"] != df[\"NA_Sales\"] + df[\"PAL_Sales\"] + df[\"JP_Sales\"] + df[\n",
    "    \"Other_Sales\"\n",
    "]"
   ],
   "metadata": {
    "collapsed": false
   }
  },
  {
   "cell_type": "code",
   "execution_count": 9,
   "outputs": [
    {
     "data": {
      "text/plain": "25       False\n58       False\n73       False\n80       False\n91       False\n         ...  \n17244    False\n17714    False\n18946    False\n19650    False\n20260    False\nLength: 1718, dtype: bool"
     },
     "execution_count": 9,
     "metadata": {},
     "output_type": "execute_result"
    }
   ],
   "source": [
    "# Build own 'Total_Sales' column\n",
    "df[\"Total_Sales\"] = (\n",
    "    df[\"NA_Sales\"] + df[\"PAL_Sales\"] + df[\"JP_Sales\"] + df[\"Other_Sales\"]\n",
    ")\n",
    "# Check if everything worked correctly\n",
    "df[\"Total_Sales\"] != df[\"NA_Sales\"] + df[\"PAL_Sales\"] + df[\"JP_Sales\"] + df[\n",
    "    \"Other_Sales\"\n",
    "]"
   ],
   "metadata": {
    "collapsed": false
   }
  },
  {
   "cell_type": "markdown",
   "source": [
    "## Bring dataframe into desired format"
   ],
   "metadata": {
    "collapsed": false
   }
  },
  {
   "cell_type": "code",
   "execution_count": 10,
   "outputs": [
    {
     "data": {
      "text/plain": "                  Name Platform    Year     Genre  Critic_Score   Publisher  \\\n0           Wii Sports      Wii  2006.0    Sports           7.7  Nintendo     \n1  Mario Kart 8 Deluxe       NS  2017.0    Racing           9.3  Nintendo     \n2    Super Mario Bros.      NES  1985.0  Platform          10.0  Nintendo     \n3       Mario Kart Wii      Wii  2008.0    Racing           8.2  Nintendo     \n4    Wii Sports Resort      Wii  2009.0    Sports           8.0  Nintendo     \n\n        Developer  NA_Sales  PAL_Sales  JP_Sales  Other_Sales  Total_Sales  \n0  Nintendo EAD       41.36      29.02      3.77         8.51        82.66  \n1  Nintendo EPD        5.05       4.98      2.11         0.91        13.05  \n2  Nintendo EAD       29.08       3.58      6.81         0.77        40.24  \n3  Nintendo EAD       15.91      12.92      3.80         3.35        35.98  \n4  Nintendo EAD       15.61      10.99      3.29         3.02        32.91  ",
      "text/html": "<div>\n<style scoped>\n    .dataframe tbody tr th:only-of-type {\n        vertical-align: middle;\n    }\n\n    .dataframe tbody tr th {\n        vertical-align: top;\n    }\n\n    .dataframe thead th {\n        text-align: right;\n    }\n</style>\n<table border=\"1\" class=\"dataframe\">\n  <thead>\n    <tr style=\"text-align: right;\">\n      <th></th>\n      <th>Name</th>\n      <th>Platform</th>\n      <th>Year</th>\n      <th>Genre</th>\n      <th>Critic_Score</th>\n      <th>Publisher</th>\n      <th>Developer</th>\n      <th>NA_Sales</th>\n      <th>PAL_Sales</th>\n      <th>JP_Sales</th>\n      <th>Other_Sales</th>\n      <th>Total_Sales</th>\n    </tr>\n  </thead>\n  <tbody>\n    <tr>\n      <th>0</th>\n      <td>Wii Sports</td>\n      <td>Wii</td>\n      <td>2006.0</td>\n      <td>Sports</td>\n      <td>7.7</td>\n      <td>Nintendo</td>\n      <td>Nintendo EAD</td>\n      <td>41.36</td>\n      <td>29.02</td>\n      <td>3.77</td>\n      <td>8.51</td>\n      <td>82.66</td>\n    </tr>\n    <tr>\n      <th>1</th>\n      <td>Mario Kart 8 Deluxe</td>\n      <td>NS</td>\n      <td>2017.0</td>\n      <td>Racing</td>\n      <td>9.3</td>\n      <td>Nintendo</td>\n      <td>Nintendo EPD</td>\n      <td>5.05</td>\n      <td>4.98</td>\n      <td>2.11</td>\n      <td>0.91</td>\n      <td>13.05</td>\n    </tr>\n    <tr>\n      <th>2</th>\n      <td>Super Mario Bros.</td>\n      <td>NES</td>\n      <td>1985.0</td>\n      <td>Platform</td>\n      <td>10.0</td>\n      <td>Nintendo</td>\n      <td>Nintendo EAD</td>\n      <td>29.08</td>\n      <td>3.58</td>\n      <td>6.81</td>\n      <td>0.77</td>\n      <td>40.24</td>\n    </tr>\n    <tr>\n      <th>3</th>\n      <td>Mario Kart Wii</td>\n      <td>Wii</td>\n      <td>2008.0</td>\n      <td>Racing</td>\n      <td>8.2</td>\n      <td>Nintendo</td>\n      <td>Nintendo EAD</td>\n      <td>15.91</td>\n      <td>12.92</td>\n      <td>3.80</td>\n      <td>3.35</td>\n      <td>35.98</td>\n    </tr>\n    <tr>\n      <th>4</th>\n      <td>Wii Sports Resort</td>\n      <td>Wii</td>\n      <td>2009.0</td>\n      <td>Sports</td>\n      <td>8.0</td>\n      <td>Nintendo</td>\n      <td>Nintendo EAD</td>\n      <td>15.61</td>\n      <td>10.99</td>\n      <td>3.29</td>\n      <td>3.02</td>\n      <td>32.91</td>\n    </tr>\n  </tbody>\n</table>\n</div>"
     },
     "execution_count": 10,
     "metadata": {},
     "output_type": "execute_result"
    }
   ],
   "source": [
    "# Column 'Rank' is no longer needed for further analysis\n",
    "df.drop(\"Rank\", axis=1, inplace=True)\n",
    "# Reset Index\n",
    "df.reset_index(drop=True, inplace=True)\n",
    "# Check if everything worked correctly\n",
    "df.head()"
   ],
   "metadata": {
    "collapsed": false
   }
  },
  {
   "cell_type": "code",
   "execution_count": 11,
   "outputs": [],
   "source": [
    "# Convert year column from float to int\n",
    "df[\"Year\"] = df[\"Year\"].astype(\"int\")"
   ],
   "metadata": {
    "collapsed": false
   }
  },
  {
   "cell_type": "code",
   "execution_count": 12,
   "outputs": [
    {
     "name": "stdout",
     "output_type": "stream",
     "text": [
      "<class 'pandas.core.frame.DataFrame'>\n",
      "RangeIndex: 1718 entries, 0 to 1717\n",
      "Data columns (total 12 columns):\n",
      " #   Column        Non-Null Count  Dtype  \n",
      "---  ------        --------------  -----  \n",
      " 0   Name          1718 non-null   object \n",
      " 1   Platform      1718 non-null   object \n",
      " 2   Year          1718 non-null   int32  \n",
      " 3   Genre         1718 non-null   object \n",
      " 4   Critic_Score  1718 non-null   float64\n",
      " 5   Publisher     1718 non-null   object \n",
      " 6   Developer     1718 non-null   object \n",
      " 7   NA_Sales      1718 non-null   float64\n",
      " 8   PAL_Sales     1718 non-null   float64\n",
      " 9   JP_Sales      1718 non-null   float64\n",
      " 10  Other_Sales   1718 non-null   float64\n",
      " 11  Total_Sales   1718 non-null   float64\n",
      "dtypes: float64(6), int32(1), object(5)\n",
      "memory usage: 154.5+ KB\n"
     ]
    }
   ],
   "source": [
    "# Final check\n",
    "df.info()"
   ],
   "metadata": {
    "collapsed": false
   }
  },
  {
   "cell_type": "code",
   "execution_count": 13,
   "outputs": [],
   "source": [
    "# Save file for dashboard\n",
    "df.to_excel(\"clean_game_sales.xlsx\", sheet_name=\"data\")\n",
    "# Save file for exploratory data analysis\n",
    "df.to_csv(\"clean_game_sales.csv\", encoding=\"utf-8\", index=False)"
   ],
   "metadata": {
    "collapsed": false
   }
  },
  {
   "cell_type": "markdown",
   "source": [
    "<a id='4'></a>\n",
    "# Conclusions\n",
    "After the cleaning process, only 1718 of the 25,000 values remain. However, these do not have any missing values and are ideally suited for further processing."
   ],
   "metadata": {
    "collapsed": false
   }
  },
  {
   "cell_type": "markdown",
   "source": [
    "<a id='5'></a>\n",
    "# References\n",
    "1. [Numpy](https://numpy.org/doc/stable/)\n",
    "2. [Pandas](https://pandas.pydata.org/docs/)"
   ],
   "metadata": {
    "collapsed": false
   }
  }
 ],
 "metadata": {
  "kernelspec": {
   "display_name": "Python 3",
   "language": "python",
   "name": "python3"
  },
  "language_info": {
   "codemirror_mode": {
    "name": "ipython",
    "version": 2
   },
   "file_extension": ".py",
   "mimetype": "text/x-python",
   "name": "python",
   "nbconvert_exporter": "python",
   "pygments_lexer": "ipython2",
   "version": "2.7.6"
  }
 },
 "nbformat": 4,
 "nbformat_minor": 0
}
